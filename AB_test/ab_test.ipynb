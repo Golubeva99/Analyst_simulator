{
 "cells": [
  {
   "cell_type": "code",
   "execution_count": 99,
   "id": "79f923b1-27ed-43ed-84c9-91bd45611ce2",
   "metadata": {},
   "outputs": [],
   "source": [
    "import pandahouse \n",
    "import pandas as pd\n",
    "import seaborn as sns\n",
    "import matplotlib.pyplot as plt\n",
    "import numpy as np\n",
    "import hashlib # Делать хэши\n",
    "from scipy import stats # Статистика\n",
    "%matplotlib inline "
   ]
  },
  {
   "cell_type": "code",
   "execution_count": 100,
   "id": "5157cb4e-1c30-4b7a-8bf7-b3b737f23222",
   "metadata": {},
   "outputs": [],
   "source": [
    "# Подключение к БД\n",
    "connection = {\n",
    "    'host': 'https://clickhouse.lab.karpov.courses',\n",
    "    'database':'simulator_20220720',\n",
    "    'user':'student', \n",
    "    'password':'dpo_python_2020'\n",
    "}"
   ]
  },
  {
   "cell_type": "code",
   "execution_count": 101,
   "id": "f332b19b-665c-42a9-b9c1-ce38dea04b4f",
   "metadata": {},
   "outputs": [
    {
     "data": {
      "text/html": [
       "<div>\n",
       "<style scoped>\n",
       "    .dataframe tbody tr th:only-of-type {\n",
       "        vertical-align: middle;\n",
       "    }\n",
       "\n",
       "    .dataframe tbody tr th {\n",
       "        vertical-align: top;\n",
       "    }\n",
       "\n",
       "    .dataframe thead th {\n",
       "        text-align: right;\n",
       "    }\n",
       "</style>\n",
       "<table border=\"1\" class=\"dataframe\">\n",
       "  <thead>\n",
       "    <tr style=\"text-align: right;\">\n",
       "      <th></th>\n",
       "      <th>uniqExact(user_id)</th>\n",
       "    </tr>\n",
       "  </thead>\n",
       "  <tbody>\n",
       "    <tr>\n",
       "      <th>0</th>\n",
       "      <td>50149</td>\n",
       "    </tr>\n",
       "  </tbody>\n",
       "</table>\n",
       "</div>"
      ],
      "text/plain": [
       "   uniqExact(user_id)\n",
       "0               50149"
      ]
     },
     "execution_count": 101,
     "metadata": {},
     "output_type": "execute_result"
    }
   ],
   "source": [
    "# Количество пользователей за выбранный период\n",
    "q = \"\"\"\n",
    "SELECT uniqExact(user_id)\n",
    "FROM {db}.feed_actions \n",
    "WHERE toDate(time) BETWEEN '2022-06-13' AND '2022-06-19'\n",
    "\"\"\"\n",
    "\n",
    "pandahouse.read_clickhouse(q, connection=connection)"
   ]
  },
  {
   "cell_type": "code",
   "execution_count": 102,
   "id": "70a4f5a3-e8e1-48fd-970b-68af1426f17f",
   "metadata": {},
   "outputs": [
    {
     "data": {
      "text/html": [
       "<div>\n",
       "<style scoped>\n",
       "    .dataframe tbody tr th:only-of-type {\n",
       "        vertical-align: middle;\n",
       "    }\n",
       "\n",
       "    .dataframe tbody tr th {\n",
       "        vertical-align: top;\n",
       "    }\n",
       "\n",
       "    .dataframe thead th {\n",
       "        text-align: right;\n",
       "    }\n",
       "</style>\n",
       "<table border=\"1\" class=\"dataframe\">\n",
       "  <thead>\n",
       "    <tr style=\"text-align: right;\">\n",
       "      <th></th>\n",
       "      <th>exp_group</th>\n",
       "      <th>user_id</th>\n",
       "    </tr>\n",
       "  </thead>\n",
       "  <tbody>\n",
       "    <tr>\n",
       "      <th>0</th>\n",
       "      <td>0</td>\n",
       "      <td>9999</td>\n",
       "    </tr>\n",
       "    <tr>\n",
       "      <th>1</th>\n",
       "      <td>1</td>\n",
       "      <td>10079</td>\n",
       "    </tr>\n",
       "    <tr>\n",
       "      <th>2</th>\n",
       "      <td>2</td>\n",
       "      <td>9952</td>\n",
       "    </tr>\n",
       "    <tr>\n",
       "      <th>3</th>\n",
       "      <td>3</td>\n",
       "      <td>10049</td>\n",
       "    </tr>\n",
       "    <tr>\n",
       "      <th>4</th>\n",
       "      <td>4</td>\n",
       "      <td>10070</td>\n",
       "    </tr>\n",
       "  </tbody>\n",
       "</table>\n",
       "</div>"
      ],
      "text/plain": [
       "   exp_group  user_id\n",
       "0          0     9999\n",
       "1          1    10079\n",
       "2          2     9952\n",
       "3          3    10049\n",
       "4          4    10070"
      ]
     },
     "execution_count": 102,
     "metadata": {},
     "output_type": "execute_result"
    }
   ],
   "source": [
    "# Разбиение пользователей по группам\n",
    "q = \"\"\"\n",
    "SELECT distinct(user_id), exp_group\n",
    "FROM {db}.feed_actions \n",
    "WHERE toDate(time) BETWEEN  '2022-06-13' AND '2022-06-19'\n",
    "\"\"\"\n",
    "users_df = pandahouse.read_clickhouse(q, connection=connection)\n",
    "users_df. groupby('exp_group').user_id.nunique().reset_index()"
   ]
  },
  {
   "cell_type": "code",
   "execution_count": 103,
   "id": "f9d1992e-8dd9-4e55-aaf6-77b8722d8101",
   "metadata": {},
   "outputs": [],
   "source": [
    "# Считаем ctr по каждому пользователю\n",
    "q = \"\"\"\n",
    "SELECT exp_group,\n",
    "    user_id,\n",
    "    sum(action = 'like') as likes,\n",
    "    sum(action = 'view') as views,\n",
    "    likes/views as ctr\n",
    "FROM {db}.feed_actions \n",
    "WHERE toDate(time) BETWEEN '2022-06-13' AND '2022-06-19'\n",
    "    and exp_group in (1,2)\n",
    "GROUP BY exp_group, user_id\n",
    "\"\"\"\n",
    "\n",
    "\n",
    "df = pandahouse.read_clickhouse(q, connection=connection)"
   ]
  },
  {
   "cell_type": "code",
   "execution_count": 104,
   "id": "05854d18-7f21-4135-b9c9-56ae4294e190",
   "metadata": {},
   "outputs": [
    {
     "data": {
      "text/html": [
       "<div>\n",
       "<style scoped>\n",
       "    .dataframe tbody tr th:only-of-type {\n",
       "        vertical-align: middle;\n",
       "    }\n",
       "\n",
       "    .dataframe tbody tr th {\n",
       "        vertical-align: top;\n",
       "    }\n",
       "\n",
       "    .dataframe thead th {\n",
       "        text-align: right;\n",
       "    }\n",
       "</style>\n",
       "<table border=\"1\" class=\"dataframe\">\n",
       "  <thead>\n",
       "    <tr style=\"text-align: right;\">\n",
       "      <th></th>\n",
       "      <th>exp_group</th>\n",
       "      <th>user_id</th>\n",
       "      <th>likes</th>\n",
       "      <th>views</th>\n",
       "      <th>ctr</th>\n",
       "    </tr>\n",
       "  </thead>\n",
       "  <tbody>\n",
       "    <tr>\n",
       "      <th>0</th>\n",
       "      <td>1</td>\n",
       "      <td>109963</td>\n",
       "      <td>3</td>\n",
       "      <td>15</td>\n",
       "      <td>0.200000</td>\n",
       "    </tr>\n",
       "    <tr>\n",
       "      <th>1</th>\n",
       "      <td>1</td>\n",
       "      <td>26117</td>\n",
       "      <td>32</td>\n",
       "      <td>141</td>\n",
       "      <td>0.226950</td>\n",
       "    </tr>\n",
       "    <tr>\n",
       "      <th>2</th>\n",
       "      <td>1</td>\n",
       "      <td>138232</td>\n",
       "      <td>18</td>\n",
       "      <td>73</td>\n",
       "      <td>0.246575</td>\n",
       "    </tr>\n",
       "    <tr>\n",
       "      <th>3</th>\n",
       "      <td>1</td>\n",
       "      <td>26295</td>\n",
       "      <td>33</td>\n",
       "      <td>122</td>\n",
       "      <td>0.270492</td>\n",
       "    </tr>\n",
       "    <tr>\n",
       "      <th>4</th>\n",
       "      <td>1</td>\n",
       "      <td>18392</td>\n",
       "      <td>7</td>\n",
       "      <td>32</td>\n",
       "      <td>0.218750</td>\n",
       "    </tr>\n",
       "    <tr>\n",
       "      <th>...</th>\n",
       "      <td>...</td>\n",
       "      <td>...</td>\n",
       "      <td>...</td>\n",
       "      <td>...</td>\n",
       "      <td>...</td>\n",
       "    </tr>\n",
       "    <tr>\n",
       "      <th>20026</th>\n",
       "      <td>1</td>\n",
       "      <td>132567</td>\n",
       "      <td>45</td>\n",
       "      <td>296</td>\n",
       "      <td>0.152027</td>\n",
       "    </tr>\n",
       "    <tr>\n",
       "      <th>20027</th>\n",
       "      <td>1</td>\n",
       "      <td>30872</td>\n",
       "      <td>11</td>\n",
       "      <td>59</td>\n",
       "      <td>0.186441</td>\n",
       "    </tr>\n",
       "    <tr>\n",
       "      <th>20028</th>\n",
       "      <td>2</td>\n",
       "      <td>25383</td>\n",
       "      <td>42</td>\n",
       "      <td>127</td>\n",
       "      <td>0.330709</td>\n",
       "    </tr>\n",
       "    <tr>\n",
       "      <th>20029</th>\n",
       "      <td>2</td>\n",
       "      <td>139020</td>\n",
       "      <td>24</td>\n",
       "      <td>114</td>\n",
       "      <td>0.210526</td>\n",
       "    </tr>\n",
       "    <tr>\n",
       "      <th>20030</th>\n",
       "      <td>2</td>\n",
       "      <td>17310</td>\n",
       "      <td>9</td>\n",
       "      <td>82</td>\n",
       "      <td>0.109756</td>\n",
       "    </tr>\n",
       "  </tbody>\n",
       "</table>\n",
       "<p>20031 rows × 5 columns</p>\n",
       "</div>"
      ],
      "text/plain": [
       "       exp_group  user_id  likes  views       ctr\n",
       "0              1   109963      3     15  0.200000\n",
       "1              1    26117     32    141  0.226950\n",
       "2              1   138232     18     73  0.246575\n",
       "3              1    26295     33    122  0.270492\n",
       "4              1    18392      7     32  0.218750\n",
       "...          ...      ...    ...    ...       ...\n",
       "20026          1   132567     45    296  0.152027\n",
       "20027          1    30872     11     59  0.186441\n",
       "20028          2    25383     42    127  0.330709\n",
       "20029          2   139020     24    114  0.210526\n",
       "20030          2    17310      9     82  0.109756\n",
       "\n",
       "[20031 rows x 5 columns]"
      ]
     },
     "execution_count": 104,
     "metadata": {},
     "output_type": "execute_result"
    }
   ],
   "source": [
    "df"
   ]
  },
  {
   "cell_type": "code",
   "execution_count": 105,
   "id": "f63297e3-45f6-4642-9679-8deeb5fdba54",
   "metadata": {},
   "outputs": [],
   "source": [
    "# Увеличение масштаба графиков в seaborn\n",
    "sns.set(rc={'figure.figsize':(11.7,8.27)})"
   ]
  },
  {
   "cell_type": "code",
   "execution_count": 106,
   "id": "228a0c6e-6263-4059-ae4f-1fd3107ea946",
   "metadata": {},
   "outputs": [
    {
     "data": {
      "image/png": "[encoded data removed]",
      "text/plain": [
       "<Figure size 842.4x595.44 with 1 Axes>"
      ]
     },
     "metadata": {},
     "output_type": "display_data"
    }
   ],
   "source": [
    "# Распределине на 2ух группах: 1-контрольная, 2 - использован один из новых алгоритмов рекомендации постов\n",
    "groups = sns.histplot(data = df,\n",
    "                      x = 'ctr',\n",
    "                      hue = 'exp_group',\n",
    "                      palette = ['r', 'b'],\n",
    "                      alpha = 0.5,\n",
    "                      kde = False)"
   ]
  },
  {
   "cell_type": "code",
   "execution_count": 107,
   "id": "5cd13b90-ac79-4afe-9a9f-66f612b0d55d",
   "metadata": {},
   "outputs": [
    {
     "data": {
      "text/plain": [
       "Ttest_indResult(statistic=0.7094392041270486, pvalue=0.4780623130874935)"
      ]
     },
     "execution_count": 107,
     "metadata": {},
     "output_type": "execute_result"
    }
   ],
   "source": [
    "# t - test. pvalue > 0.05, значит мы не можем отвергать H0. Возможно такие результаты связаны с почти одиноковыми средними значениями\n",
    "stats.ttest_ind (df[df.exp_group == 1].ctr,\n",
    "                 df[df.exp_group == 2].ctr,\n",
    "                 equal_var = False)"
   ]
  },
  {
   "cell_type": "code",
   "execution_count": 108,
   "id": "00892ddf-224d-4d17-bfbc-0f67db02c6d7",
   "metadata": {},
   "outputs": [
    {
     "data": {
      "text/plain": [
       "(0.21560459841296287, 0.21441927347479375)"
      ]
     },
     "execution_count": 108,
     "metadata": {},
     "output_type": "execute_result"
    }
   ],
   "source": [
    "df[df.exp_group == 1].ctr.mean(), df[df.exp_group == 2].ctr.mean()"
   ]
  },
  {
   "cell_type": "code",
   "execution_count": 109,
   "id": "5a8b0ca4-d18d-496f-9d4a-9f202433bb76",
   "metadata": {},
   "outputs": [
    {
     "data": {
      "text/plain": [
       "MannwhitneyuResult(statistic=56601260.5, pvalue=6.0376484617779035e-56)"
      ]
     },
     "execution_count": 109,
     "metadata": {},
     "output_type": "execute_result"
    }
   ],
   "source": [
    "# Тест Манна-Уитни. pvalue очень маленькое, а значит тест видит значимые различия\n",
    "stats.mannwhitneyu (df[df.exp_group == 1].ctr,\n",
    "                 df[df.exp_group == 2].ctr)\n"
   ]
  },
  {
   "cell_type": "markdown",
   "id": "e1271ddd-f162-4ebd-9152-c1a682d45dd7",
   "metadata": {},
   "source": [
    "<h2>Сглаживание CTR</h2>"
   ]
  },
  {
   "cell_type": "code",
   "execution_count": 152,
   "id": "10099549-335b-4c8a-a69a-3e1d7da539ce",
   "metadata": {},
   "outputs": [],
   "source": [
    "def get_smothed_ctr(user_likes, user_views, global_ctr, alpha):\n",
    "    smothed_ctr = (user_likes + alpha*global_ctr) / (user_views + alpha)\n",
    "    return smothed_ctr"
   ]
  },
  {
   "cell_type": "code",
   "execution_count": 153,
   "id": "c6394677-937b-4661-879d-116bc1416716",
   "metadata": {},
   "outputs": [],
   "source": [
    "# Считаем ctr по каждому пользователю\n",
    "q = \"\"\"\n",
    "SELECT exp_group,\n",
    "    user_id,\n",
    "    sum(action = 'like') as likes,\n",
    "    sum(action = 'view') as views,\n",
    "    likes/views as ctr\n",
    "FROM {db}.feed_actions \n",
    "WHERE toDate(time) BETWEEN '2022-06-13' AND '2022-06-19'\n",
    "    and exp_group in (1,2)\n",
    "GROUP BY exp_group, user_id\n",
    "\"\"\"\n",
    "\n",
    "\n",
    "df = pandahouse.read_clickhouse(q, connection=connection)"
   ]
  },
  {
   "cell_type": "code",
   "execution_count": 154,
   "id": "dc4587ad-2c32-4c33-96c0-b73d0458e873",
   "metadata": {},
   "outputs": [],
   "source": [
    "global_ctr_1 = df[df.exp_group == 1].likes.sum()/df[df.exp_group == 1].views.sum()\n",
    "global_ctr_2 = df[df.exp_group == 2].likes.sum()/df[df.exp_group == 2].views.sum()"
   ]
  },
  {
   "cell_type": "code",
   "execution_count": 155,
   "id": "c67b8013-edf8-4228-bb41-7713b78145b5",
   "metadata": {},
   "outputs": [],
   "source": [
    "# Увеличение масштаба графиков в seaborn\n",
    "sns.set(rc={'figure.figsize':(11.7,8.27)})"
   ]
  },
  {
   "cell_type": "code",
   "execution_count": 156,
   "id": "af970a5c-1c05-4511-88b2-ee5c33558401",
   "metadata": {},
   "outputs": [
    {
     "name": "stderr",
     "output_type": "stream",
     "text": [
      "/nfs/env/lib/python3.8/site-packages/seaborn/distributions.py:2557: FutureWarning: `distplot` is a deprecated function and will be removed in a future version. Please adapt your code to use either `displot` (a figure-level function with similar flexibility) or `histplot` (an axes-level function for histograms).\n",
      "  warnings.warn(msg, FutureWarning)\n"
     ]
    },
    {
     "data": {
      "text/plain": [
       "<AxesSubplot:xlabel='ctr'>"
      ]
     },
     "execution_count": 156,
     "metadata": {},
     "output_type": "execute_result"
    },
    {
     "data": {
      "image/png": "[encoded data removed]",
      "text/plain": [
       "<Figure size 842.4x595.44 with 1 Axes>"
      ]
     },
     "metadata": {},
     "output_type": "display_data"
    }
   ],
   "source": [
    "group1 = df[df.exp_group == 1].copy()\n",
    "sns.distplot(group1.ctr,\n",
    "             kde = False)"
   ]
  },
  {
   "cell_type": "code",
   "execution_count": 161,
   "id": "f1536e2b-8477-4747-a0c8-260e4acbf4ca",
   "metadata": {},
   "outputs": [],
   "source": [
    "group1['smothed_ctr'] = df.apply(\n",
    "    lambda x: get_smothed_ctr(x['likes'], x['views'], global_ctr_1, 100), axis=1)"
   ]
  },
  {
   "cell_type": "code",
   "execution_count": 162,
   "id": "bff26bbd-ffb1-4b2f-89a6-71d5bbb350bc",
   "metadata": {},
   "outputs": [
    {
     "data": {
      "text/plain": [
       "<AxesSubplot:xlabel='ctr'>"
      ]
     },
     "execution_count": 162,
     "metadata": {},
     "output_type": "execute_result"
    },
    {
     "data": {
      "image/png": "[encoded data removed]",
      "text/plain": [
       "<Figure size 842.4x595.44 with 1 Axes>"
      ]
     },
     "metadata": {},
     "output_type": "display_data"
    }
   ],
   "source": [
    "sns.distplot(group1.ctr,\n",
    "             kde = False)"
   ]
  },
  {
   "cell_type": "code",
   "execution_count": 117,
   "id": "d6fbb1c1-aeb9-423a-96f7-969785d10a2a",
   "metadata": {},
   "outputs": [
    {
     "data": {
      "text/plain": [
       "<AxesSubplot:xlabel='ctr'>"
      ]
     },
     "execution_count": 117,
     "metadata": {},
     "output_type": "execute_result"
    },
    {
     "data": {
      "image/png": "[encoded data removed]",
      "text/plain": [
       "<Figure size 842.4x595.44 with 1 Axes>"
      ]
     },
     "metadata": {},
     "output_type": "display_data"
    }
   ],
   "source": [
    "group2 = df[df.exp_group == 2].copy()\n",
    "sns.distplot(group2.ctr,\n",
    "             kde = False)"
   ]
  },
  {
   "cell_type": "code",
   "execution_count": 118,
   "id": "f173e7c3-be98-4bbd-a225-a4bee7fd93eb",
   "metadata": {},
   "outputs": [],
   "source": [
    "group2['smothed_ctr'] = df.apply(\n",
    "    lambda x: get_smothed_ctr(x['likes'], x['views'], global_ctr_1, 5), axis=1)"
   ]
  },
  {
   "cell_type": "code",
   "execution_count": 119,
   "id": "4fe97253-af65-4518-aca7-09c19f773900",
   "metadata": {},
   "outputs": [
    {
     "data": {
      "text/plain": [
       "<AxesSubplot:xlabel='ctr'>"
      ]
     },
     "execution_count": 119,
     "metadata": {},
     "output_type": "execute_result"
    },
    {
     "data": {
      "image/png": "[encoded data removed]",
      "text/plain": [
       "<Figure size 842.4x595.44 with 1 Axes>"
      ]
     },
     "metadata": {},
     "output_type": "display_data"
    }
   ],
   "source": [
    "sns.distplot(group2.ctr,\n",
    "             kde = False)"
   ]
  },
  {
   "cell_type": "code",
   "execution_count": 120,
   "id": "131f743c-4d97-4e6d-bf53-9b8eda6bdd34",
   "metadata": {},
   "outputs": [
    {
     "data": {
      "text/plain": [
       "Ttest_indResult(statistic=0.7094392041270486, pvalue=0.4780623130874935)"
      ]
     },
     "execution_count": 120,
     "metadata": {},
     "output_type": "execute_result"
    }
   ],
   "source": [
    "# t - test со сглаженым CTR. pvalue > 0.05, значит мы не можем отвергать H0.\n",
    "stats.ttest_ind (group1.ctr,\n",
    "                 group2.ctr,\n",
    "                 equal_var = False)"
   ]
  },
  {
   "cell_type": "markdown",
   "id": "952155f1-4de8-4fb3-a313-661ef276db59",
   "metadata": {},
   "source": [
    "<h2>Бутстреп</h2>"
   ]
  },
  {
   "cell_type": "code",
   "execution_count": 121,
   "id": "0265343e-7c73-4162-85f4-31d7d67d7571",
   "metadata": {},
   "outputs": [],
   "source": [
    "# Считаем ctr по каждому пользователю в группе 1\n",
    "q = \"\"\"\n",
    "SELECT exp_group,\n",
    "    user_id,\n",
    "    sum(action = 'like') as likes,\n",
    "    sum(action = 'view') as views,\n",
    "    likes/views as ctr\n",
    "FROM {db}.feed_actions \n",
    "WHERE toDate(time) BETWEEN '2022-06-13' AND '2022-06-19'\n",
    "    and exp_group=1\n",
    "GROUP BY exp_group, user_id\n",
    "\"\"\"\n",
    "\n",
    "\n",
    "df = pandahouse.read_clickhouse(q, connection=connection)"
   ]
  },
  {
   "cell_type": "code",
   "execution_count": 122,
   "id": "ed8ff8f0-f2a3-44c4-841e-74437489eda3",
   "metadata": {},
   "outputs": [],
   "source": [
    "df_ctr_1 = df.ctr"
   ]
  },
  {
   "cell_type": "code",
   "execution_count": 123,
   "id": "05bd3758-65bf-412f-a6cd-e0b25f86b2f6",
   "metadata": {},
   "outputs": [
    {
     "data": {
      "text/plain": [
       "0        0.200000\n",
       "1        0.226950\n",
       "2        0.246575\n",
       "3        0.270492\n",
       "4        0.218750\n",
       "           ...   \n",
       "10074    0.177778\n",
       "10075    0.252747\n",
       "10076    0.187500\n",
       "10077    0.152027\n",
       "10078    0.186441\n",
       "Name: ctr, Length: 10079, dtype: float64"
      ]
     },
     "execution_count": 123,
     "metadata": {},
     "output_type": "execute_result"
    }
   ],
   "source": [
    "df_ctr_1"
   ]
  },
  {
   "cell_type": "code",
   "execution_count": 124,
   "id": "997b8fdf-edee-4a14-9828-097c83655218",
   "metadata": {},
   "outputs": [],
   "source": [
    "# Считаем ctr по каждому пользователю в группе 2\n",
    "q = \"\"\"\n",
    "SELECT exp_group,\n",
    "    user_id,\n",
    "    sum(action = 'like') as likes,\n",
    "    sum(action = 'view') as views,\n",
    "    likes/views as ctr\n",
    "FROM {db}.feed_actions \n",
    "WHERE toDate(time) BETWEEN '2022-06-13' AND '2022-06-19'\n",
    "    and exp_group=2\n",
    "GROUP BY exp_group, user_id\n",
    "\"\"\"\n",
    "\n",
    "\n",
    "df = pandahouse.read_clickhouse(q, connection=connection)"
   ]
  },
  {
   "cell_type": "code",
   "execution_count": 125,
   "id": "3047eafe-f493-4490-aa67-2b4b8226d59b",
   "metadata": {},
   "outputs": [],
   "source": [
    "df_ctr_2 = df.ctr"
   ]
  },
  {
   "cell_type": "code",
   "execution_count": 126,
   "id": "ec56184f-a18d-48ea-85cf-e743bf6c2aea",
   "metadata": {},
   "outputs": [
    {
     "data": {
      "text/plain": [
       "0       0.104478\n",
       "1       0.080460\n",
       "2       0.108911\n",
       "3       0.203125\n",
       "4       0.444444\n",
       "          ...   \n",
       "9947    0.066667\n",
       "9948    0.000000\n",
       "9949    0.330709\n",
       "9950    0.210526\n",
       "9951    0.109756\n",
       "Name: ctr, Length: 9952, dtype: float64"
      ]
     },
     "execution_count": 126,
     "metadata": {},
     "output_type": "execute_result"
    }
   ],
   "source": [
    "df_ctr_2"
   ]
  },
  {
   "cell_type": "code",
   "execution_count": 127,
   "id": "28dd87d9-fd0b-4465-bd3b-25a7bd6b2745",
   "metadata": {},
   "outputs": [],
   "source": [
    "sample_ctr1 = df_ctr_1.sample(10000, replace = True).tolist()"
   ]
  },
  {
   "cell_type": "code",
   "execution_count": 128,
   "id": "0e558a52-e93b-463c-aaeb-37ba86ca3cf1",
   "metadata": {},
   "outputs": [],
   "source": [
    "sample_ctr2 = df_ctr_2.sample(10000, replace = True).tolist()"
   ]
  },
  {
   "cell_type": "code",
   "execution_count": 129,
   "id": "5afbf2d3-530f-4a93-90a2-f9bc41a2a455",
   "metadata": {},
   "outputs": [
    {
     "data": {
      "text/plain": [
       "<AxesSubplot:>"
      ]
     },
     "execution_count": 129,
     "metadata": {},
     "output_type": "execute_result"
    },
    {
     "data": {
      "image/png": "[encoded data removed]",
      "text/plain": [
       "<Figure size 842.4x595.44 with 1 Axes>"
      ]
     },
     "metadata": {},
     "output_type": "display_data"
    }
   ],
   "source": [
    "sns.distplot(sample_ctr1,\n",
    "             kde = False)"
   ]
  },
  {
   "cell_type": "code",
   "execution_count": 130,
   "id": "13e2330d-cc3a-4ebf-928d-b355bf6b15bf",
   "metadata": {},
   "outputs": [
    {
     "data": {
      "text/plain": [
       "<AxesSubplot:>"
      ]
     },
     "execution_count": 130,
     "metadata": {},
     "output_type": "execute_result"
    },
    {
     "data": {
      "image/png": "[encoded data removed]",
      "text/plain": [
       "<Figure size 842.4x595.44 with 1 Axes>"
      ]
     },
     "metadata": {},
     "output_type": "display_data"
    }
   ],
   "source": [
    "sns.distplot(sample_ctr2,\n",
    "             kde = False)"
   ]
  },
  {
   "cell_type": "code",
   "execution_count": 131,
   "id": "d9be629b-9adb-44f7-835e-b994b348115d",
   "metadata": {},
   "outputs": [
    {
     "data": {
      "text/plain": [
       "Ttest_indResult(statistic=-0.017780307193686385, pvalue=0.9858143360505495)"
      ]
     },
     "execution_count": 131,
     "metadata": {},
     "output_type": "execute_result"
    }
   ],
   "source": [
    "# ttest \n",
    "stats.ttest_ind(sample_ctr1,\n",
    "                sample_ctr2,\n",
    "                equal_var = False)"
   ]
  },
  {
   "cell_type": "markdown",
   "id": "bb72fe7f-9a2d-4f44-aa45-37df6569327c",
   "metadata": {},
   "source": [
    "<h2>Пуассоновский бутстреп для подсчета разницы в CTR</h2>"
   ]
  },
  {
   "cell_type": "code",
   "execution_count": 132,
   "id": "ed442468-953c-4ac3-a70e-7e03f22be4cb",
   "metadata": {},
   "outputs": [],
   "source": [
    "def bootstrap(likes1, views1, likes2, views2, n_bootstrap = 2000):\n",
    "    poisson_bootstraps1 = stats.poisson(1).rvs(\n",
    "        (2000, len(likes1))).astype(np.int64)\n",
    "    poisson_bootstraps2 = stats.poisson(1).rvs(\n",
    "        (2000, len(likes2))).astype(np.int64)\n",
    "    globalCTR1 = (poisson_bootstraps1*likes1).sum(axis=1)/(poisson_bootstraps1*views1).sum(axis=1)\n",
    "    globalCTR2 = (poisson_bootstraps2*likes2).sum(axis=1)/(poisson_bootstraps2*views2).sum(axis=1)\n",
    "    return globalCTR1,  globalCTR2"
   ]
  },
  {
   "cell_type": "code",
   "execution_count": 133,
   "id": "0d528dd8-fc6b-4205-8e4b-a4a39761d7b5",
   "metadata": {},
   "outputs": [],
   "source": [
    "q = \"\"\"\n",
    "SELECT exp_group,\n",
    "    user_id,\n",
    "    sum(action = 'like') as likes,\n",
    "    sum(action = 'view') as views,\n",
    "    likes/views as ctr\n",
    "FROM {db}.feed_actions \n",
    "WHERE toDate(time) BETWEEN '2022-06-13' AND '2022-06-19'\n",
    "    and exp_group in (1,2)\n",
    "GROUP BY exp_group, user_id\n",
    "\"\"\"\n",
    "\n",
    "\n",
    "df = pandahouse.read_clickhouse(q, connection=connection)\n",
    "likes1 = df[df.exp_group ==1].likes.to_numpy()\n",
    "views1 = df[df.exp_group ==1].views.to_numpy()\n",
    "likes2 = df[df.exp_group ==2].likes.to_numpy()\n",
    "views2 = df[df.exp_group ==2].views.to_numpy()"
   ]
  },
  {
   "cell_type": "code",
   "execution_count": 134,
   "id": "ddf7f808-6239-49b5-b380-5e48d383a7f2",
   "metadata": {},
   "outputs": [],
   "source": [
    "ctr1, ctr2 = bootstrap(likes1, views1, likes2, views2)"
   ]
  },
  {
   "cell_type": "code",
   "execution_count": 135,
   "id": "18a84dd9-8b27-4954-96ff-a9ea91b0d62d",
   "metadata": {},
   "outputs": [
    {
     "data": {
      "text/plain": [
       "<AxesSubplot:ylabel='Count'>"
      ]
     },
     "execution_count": 135,
     "metadata": {},
     "output_type": "execute_result"
    },
    {
     "data": {
      "image/png": "[encoded data removed]",
      "text/plain": [
       "<Figure size 842.4x595.44 with 1 Axes>"
      ]
     },
     "metadata": {},
     "output_type": "display_data"
    }
   ],
   "source": [
    "sns.histplot(ctr1)\n",
    "sns.histplot(ctr2)"
   ]
  },
  {
   "cell_type": "code",
   "execution_count": 136,
   "id": "7cad79cc-293b-4578-a382-1a89a0e620ef",
   "metadata": {},
   "outputs": [
    {
     "data": {
      "text/plain": [
       "<AxesSubplot:ylabel='Count'>"
      ]
     },
     "execution_count": 136,
     "metadata": {},
     "output_type": "execute_result"
    },
    {
     "data": {
      "image/png": "[encoded data removed]",
      "text/plain": [
       "<Figure size 842.4x595.44 with 1 Axes>"
      ]
     },
     "metadata": {},
     "output_type": "display_data"
    }
   ],
   "source": [
    "sns.histplot(ctr1 - ctr2)"
   ]
  },
  {
   "cell_type": "code",
   "execution_count": 137,
   "id": "be098d2b-053f-4bc8-a539-54a1234d2f23",
   "metadata": {},
   "outputs": [],
   "source": [
    "# Группа 1 показала лучший результат по ctr, чем группа 2"
   ]
  },
  {
   "cell_type": "markdown",
   "id": "d835e89e-a773-4cff-b18e-aba0df465c3e",
   "metadata": {},
   "source": [
    "<h2>Бакетное преобразование</h2>"
   ]
  },
  {
   "cell_type": "code",
   "execution_count": 140,
   "id": "29bcb9d8-d8eb-40da-97e8-6d1044fd3f80",
   "metadata": {},
   "outputs": [],
   "source": [
    "q = \"\"\"\n",
    "SELECT exp_group, bucket,\n",
    "    sum(likes)/sum(views) as bucket_ctr,\n",
    "    quantileExact(0.9)(ctr) as ctr9\n",
    "FROM (SELECT exp_group,\n",
    "        xxHash64(user_id)%50 as bucket,\n",
    "        user_id,\n",
    "        sum(action = 'like') as likes,\n",
    "        sum(action = 'view') as views,\n",
    "        likes/views as ctr\n",
    "    FROM {db}.feed_actions \n",
    "    WHERE toDate(time) BETWEEN '2022-06-13' AND '2022-06-19'\n",
    "        and exp_group in (1,2)\n",
    "    GROUP BY exp_group, bucket, user_id)\n",
    "GROUP BY exp_group, bucket\n",
    "\"\"\"\n",
    "\n",
    "df = pandahouse.read_clickhouse(q, connection=connection)"
   ]
  },
  {
   "cell_type": "code",
   "execution_count": 141,
   "id": "4c228f66-d5be-4b26-89ed-4b08975f81d4",
   "metadata": {},
   "outputs": [
    {
     "data": {
      "text/plain": [
       "MannwhitneyuResult(statistic=1995.0, pvalue=2.859963936492646e-07)"
      ]
     },
     "execution_count": 141,
     "metadata": {},
     "output_type": "execute_result"
    }
   ],
   "source": [
    "stats.mannwhitneyu(df[df.exp_group == 1].bucket_ctr,\n",
    "                   df[df.exp_group == 2].bucket_ctr,\n",
    "                   alternative = 'two-sided')"
   ]
  },
  {
   "cell_type": "code",
   "execution_count": null,
   "id": "c66359fe-b470-471f-8698-332b852a9ba4",
   "metadata": {},
   "outputs": [],
   "source": [
    "#Тест Манна-Уитни видит отличия "
   ]
  },
  {
   "cell_type": "code",
   "execution_count": 144,
   "id": "8e54a0b6-8e68-4f12-b059-c3e83c18c36f",
   "metadata": {},
   "outputs": [
    {
     "data": {
      "text/plain": [
       "<AxesSubplot:xlabel='bucket_ctr', ylabel='Count'>"
      ]
     },
     "execution_count": 144,
     "metadata": {},
     "output_type": "execute_result"
    },
    {
     "data": {
      "image/png": "[encoded data removed]",
      "text/plain": [
       "<Figure size 842.4x595.44 with 1 Axes>"
      ]
     },
     "metadata": {},
     "output_type": "display_data"
    }
   ],
   "source": [
    "sns.histplot(df[df.exp_group == 1].bucket_ctr)"
   ]
  },
  {
   "cell_type": "code",
   "execution_count": 145,
   "id": "14596e75-3b19-4989-b4fe-606c443e335c",
   "metadata": {},
   "outputs": [
    {
     "data": {
      "text/plain": [
       "Ttest_indResult(statistic=5.668234732053979, pvalue=3.4455951649945907e-07)"
      ]
     },
     "execution_count": 145,
     "metadata": {},
     "output_type": "execute_result"
    }
   ],
   "source": [
    "stats.ttest_ind(df[df.exp_group == 1].bucket_ctr,\n",
    "                   df[df.exp_group == 2].bucket_ctr,\n",
    "                   equal_var = False)"
   ]
  },
  {
   "cell_type": "code",
   "execution_count": 146,
   "id": "a5c5aeee-732c-4395-bd50-19d6894be10d",
   "metadata": {},
   "outputs": [],
   "source": [
    " #ttest видит отличия"
   ]
  },
  {
   "cell_type": "code",
   "execution_count": 148,
   "id": "f9e524ad-e9be-458d-90b4-79dc13232330",
   "metadata": {},
   "outputs": [
    {
     "data": {
      "text/plain": [
       "<AxesSubplot:xlabel='ctr9', ylabel='Count'>"
      ]
     },
     "execution_count": 148,
     "metadata": {},
     "output_type": "execute_result"
    },
    {
     "data": {
      "image/png": "[encoded data removed]",
      "text/plain": [
       "<Figure size 842.4x595.44 with 1 Axes>"
      ]
     },
     "metadata": {},
     "output_type": "display_data"
    }
   ],
   "source": [
    "sns.histplot(df[df.exp_group == 2].ctr9)"
   ]
  },
  {
   "cell_type": "code",
   "execution_count": 149,
   "id": "97084df1-18e5-4400-a81a-34bb96647005",
   "metadata": {},
   "outputs": [
    {
     "data": {
      "text/plain": [
       "MannwhitneyuResult(statistic=0.0, pvalue=6.344839189967265e-18)"
      ]
     },
     "execution_count": 149,
     "metadata": {},
     "output_type": "execute_result"
    }
   ],
   "source": [
    "stats.mannwhitneyu(df[df.exp_group == 1].ctr9,\n",
    "                   df[df.exp_group == 2].ctr9,\n",
    "                   alternative = 'two-sided')"
   ]
  },
  {
   "cell_type": "code",
   "execution_count": 151,
   "id": "1de02741-f724-481c-8d6e-5f4da8ded97f",
   "metadata": {},
   "outputs": [],
   "source": [
    "#Тест Манна-Уитни видит отличия между 90%ых квантилей групп"
   ]
  },
  {
   "cell_type": "code",
   "execution_count": null,
   "id": "73b0426a-1102-474d-9712-3bdaf3d667f6",
   "metadata": {},
   "outputs": [],
   "source": []
  }
 ],
 "metadata": {
  "kernelspec": {
   "display_name": "Python 3 (ipykernel)",
   "language": "python",
   "name": "python3"
  },
  "language_info": {
   "codemirror_mode": {
    "name": "ipython",
    "version": 3
   },
   "file_extension": ".py",
   "mimetype": "text/x-python",
   "name": "python",
   "nbconvert_exporter": "python",
   "pygments_lexer": "ipython3",
   "version": "3.8.10"
  }
 },
 "nbformat": 4,
 "nbformat_minor": 5
}
