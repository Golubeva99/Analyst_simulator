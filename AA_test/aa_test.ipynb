{
 "cells": [
  {
   "cell_type": "code",
   "execution_count": 26,
   "id": "4146b1a1-7bd3-445e-ada5-408e0ecce3c4",
   "metadata": {},
   "outputs": [],
   "source": [
    "import pandahouse \n",
    "import pandas as pd\n",
    "import seaborn as sns\n",
    "import matplotlib.pyplot as plt\n",
    "import numpy as np\n",
    "import hashlib # Делать хэши\n",
    "from scipy import stats # Статистика\n",
    "%matplotlib inline "
   ]
  },
  {
   "cell_type": "code",
   "execution_count": 27,
   "id": "e9c29430-097c-4706-b940-07da669fe4af",
   "metadata": {},
   "outputs": [],
   "source": [
    "# Подключение к БД\n",
    "connection = {\n",
    "    'host': 'https://clickhouse.lab.karpov.courses',\n",
    "    'database':'simulator_20220720',\n",
    "    'user':'student', \n",
    "    'password':'dpo_python_2020'\n",
    "}"
   ]
  },
  {
   "cell_type": "code",
   "execution_count": 18,
   "id": "0f3ec2f1-f46e-45d0-b334-8b1c795a2ea2",
   "metadata": {},
   "outputs": [
    {
     "data": {
      "text/html": [
       "<div>\n",
       "<style scoped>\n",
       "    .dataframe tbody tr th:only-of-type {\n",
       "        vertical-align: middle;\n",
       "    }\n",
       "\n",
       "    .dataframe tbody tr th {\n",
       "        vertical-align: top;\n",
       "    }\n",
       "\n",
       "    .dataframe thead th {\n",
       "        text-align: right;\n",
       "    }\n",
       "</style>\n",
       "<table border=\"1\" class=\"dataframe\">\n",
       "  <thead>\n",
       "    <tr style=\"text-align: right;\">\n",
       "      <th></th>\n",
       "      <th>uniqExact(user_id)</th>\n",
       "    </tr>\n",
       "  </thead>\n",
       "  <tbody>\n",
       "    <tr>\n",
       "      <th>0</th>\n",
       "      <td>42585</td>\n",
       "    </tr>\n",
       "  </tbody>\n",
       "</table>\n",
       "</div>"
      ],
      "text/plain": [
       "   uniqExact(user_id)\n",
       "0               42585"
      ]
     },
     "execution_count": 18,
     "metadata": {},
     "output_type": "execute_result"
    }
   ],
   "source": [
    "# Количество пользователей за выбранный период\n",
    "q = \"\"\"\n",
    "SELECT uniqExact(user_id)\n",
    "FROM {db}.feed_actions \n",
    "WHERE toDate(time) BETWEEN '2022-06-06' AND '2022-06-12'\n",
    "\"\"\"\n",
    "\n",
    "pandahouse.read_clickhouse(q, connection=connection)"
   ]
  },
  {
   "cell_type": "code",
   "execution_count": 28,
   "id": "5b6219d0-4ff4-4aa3-adb3-acf0fbe1d472",
   "metadata": {},
   "outputs": [
    {
     "data": {
      "text/html": [
       "<div>\n",
       "<style scoped>\n",
       "    .dataframe tbody tr th:only-of-type {\n",
       "        vertical-align: middle;\n",
       "    }\n",
       "\n",
       "    .dataframe tbody tr th {\n",
       "        vertical-align: top;\n",
       "    }\n",
       "\n",
       "    .dataframe thead th {\n",
       "        text-align: right;\n",
       "    }\n",
       "</style>\n",
       "<table border=\"1\" class=\"dataframe\">\n",
       "  <thead>\n",
       "    <tr style=\"text-align: right;\">\n",
       "      <th></th>\n",
       "      <th>exp_group</th>\n",
       "      <th>user_id</th>\n",
       "    </tr>\n",
       "  </thead>\n",
       "  <tbody>\n",
       "    <tr>\n",
       "      <th>0</th>\n",
       "      <td>0</td>\n",
       "      <td>8484</td>\n",
       "    </tr>\n",
       "    <tr>\n",
       "      <th>1</th>\n",
       "      <td>1</td>\n",
       "      <td>8537</td>\n",
       "    </tr>\n",
       "    <tr>\n",
       "      <th>2</th>\n",
       "      <td>2</td>\n",
       "      <td>8480</td>\n",
       "    </tr>\n",
       "    <tr>\n",
       "      <th>3</th>\n",
       "      <td>3</td>\n",
       "      <td>8569</td>\n",
       "    </tr>\n",
       "    <tr>\n",
       "      <th>4</th>\n",
       "      <td>4</td>\n",
       "      <td>8515</td>\n",
       "    </tr>\n",
       "  </tbody>\n",
       "</table>\n",
       "</div>"
      ],
      "text/plain": [
       "   exp_group  user_id\n",
       "0          0     8484\n",
       "1          1     8537\n",
       "2          2     8480\n",
       "3          3     8569\n",
       "4          4     8515"
      ]
     },
     "execution_count": 28,
     "metadata": {},
     "output_type": "execute_result"
    }
   ],
   "source": [
    "# Разбиение пользователей по группам\n",
    "q = \"\"\"\n",
    "SELECT distinct(user_id), exp_group\n",
    "FROM {db}.feed_actions \n",
    "WHERE toDate(time) BETWEEN '2022-06-06' AND '2022-06-12'\n",
    "\"\"\"\n",
    "users_df = pandahouse.read_clickhouse(q, connection=connection)\n",
    "users_df. groupby('exp_group').user_id.nunique().reset_index()"
   ]
  },
  {
   "cell_type": "code",
   "execution_count": 33,
   "id": "0cf83710-bda5-4e67-a57e-80f195c2861b",
   "metadata": {},
   "outputs": [],
   "source": [
    "# Считаем ctr по каждому пользователю\n",
    "q = \"\"\"\n",
    "SELECT exp_group,\n",
    "    user_id,\n",
    "    sum(action = 'like') as likes,\n",
    "    sum(action = 'view') as views,\n",
    "    likes/views as ctr\n",
    "FROM {db}.feed_actions \n",
    "WHERE toDate(time) BETWEEN '2022-06-06' AND '2022-06-12'\n",
    "    and exp_group in (2,3)\n",
    "GROUP BY exp_group, user_id\n",
    "\"\"\"\n",
    "\n",
    "\n",
    "df = pandahouse.read_clickhouse(q, connection=connection)"
   ]
  },
  {
   "cell_type": "code",
   "execution_count": 48,
   "id": "0369ed3b-d975-4895-9e35-98e2cfe9bd2c",
   "metadata": {},
   "outputs": [
    {
     "data": {
      "text/html": [
       "<div>\n",
       "<style scoped>\n",
       "    .dataframe tbody tr th:only-of-type {\n",
       "        vertical-align: middle;\n",
       "    }\n",
       "\n",
       "    .dataframe tbody tr th {\n",
       "        vertical-align: top;\n",
       "    }\n",
       "\n",
       "    .dataframe thead th {\n",
       "        text-align: right;\n",
       "    }\n",
       "</style>\n",
       "<table border=\"1\" class=\"dataframe\">\n",
       "  <thead>\n",
       "    <tr style=\"text-align: right;\">\n",
       "      <th></th>\n",
       "      <th>exp_group</th>\n",
       "      <th>user_id</th>\n",
       "      <th>likes</th>\n",
       "      <th>views</th>\n",
       "      <th>ctr</th>\n",
       "    </tr>\n",
       "  </thead>\n",
       "  <tbody>\n",
       "    <tr>\n",
       "      <th>0</th>\n",
       "      <td>3</td>\n",
       "      <td>115383</td>\n",
       "      <td>11</td>\n",
       "      <td>36</td>\n",
       "      <td>0.305556</td>\n",
       "    </tr>\n",
       "    <tr>\n",
       "      <th>1</th>\n",
       "      <td>3</td>\n",
       "      <td>123580</td>\n",
       "      <td>15</td>\n",
       "      <td>92</td>\n",
       "      <td>0.163043</td>\n",
       "    </tr>\n",
       "    <tr>\n",
       "      <th>2</th>\n",
       "      <td>2</td>\n",
       "      <td>131473</td>\n",
       "      <td>26</td>\n",
       "      <td>148</td>\n",
       "      <td>0.175676</td>\n",
       "    </tr>\n",
       "    <tr>\n",
       "      <th>3</th>\n",
       "      <td>2</td>\n",
       "      <td>23985</td>\n",
       "      <td>12</td>\n",
       "      <td>66</td>\n",
       "      <td>0.181818</td>\n",
       "    </tr>\n",
       "    <tr>\n",
       "      <th>4</th>\n",
       "      <td>2</td>\n",
       "      <td>24523</td>\n",
       "      <td>17</td>\n",
       "      <td>120</td>\n",
       "      <td>0.141667</td>\n",
       "    </tr>\n",
       "    <tr>\n",
       "      <th>...</th>\n",
       "      <td>...</td>\n",
       "      <td>...</td>\n",
       "      <td>...</td>\n",
       "      <td>...</td>\n",
       "      <td>...</td>\n",
       "    </tr>\n",
       "    <tr>\n",
       "      <th>17044</th>\n",
       "      <td>3</td>\n",
       "      <td>122008</td>\n",
       "      <td>4</td>\n",
       "      <td>31</td>\n",
       "      <td>0.129032</td>\n",
       "    </tr>\n",
       "    <tr>\n",
       "      <th>17045</th>\n",
       "      <td>2</td>\n",
       "      <td>25383</td>\n",
       "      <td>16</td>\n",
       "      <td>57</td>\n",
       "      <td>0.280702</td>\n",
       "    </tr>\n",
       "    <tr>\n",
       "      <th>17046</th>\n",
       "      <td>3</td>\n",
       "      <td>122190</td>\n",
       "      <td>25</td>\n",
       "      <td>74</td>\n",
       "      <td>0.337838</td>\n",
       "    </tr>\n",
       "    <tr>\n",
       "      <th>17047</th>\n",
       "      <td>2</td>\n",
       "      <td>108927</td>\n",
       "      <td>8</td>\n",
       "      <td>33</td>\n",
       "      <td>0.242424</td>\n",
       "    </tr>\n",
       "    <tr>\n",
       "      <th>17048</th>\n",
       "      <td>2</td>\n",
       "      <td>17310</td>\n",
       "      <td>2</td>\n",
       "      <td>14</td>\n",
       "      <td>0.142857</td>\n",
       "    </tr>\n",
       "  </tbody>\n",
       "</table>\n",
       "<p>17049 rows × 5 columns</p>\n",
       "</div>"
      ],
      "text/plain": [
       "       exp_group  user_id  likes  views       ctr\n",
       "0              3   115383     11     36  0.305556\n",
       "1              3   123580     15     92  0.163043\n",
       "2              2   131473     26    148  0.175676\n",
       "3              2    23985     12     66  0.181818\n",
       "4              2    24523     17    120  0.141667\n",
       "...          ...      ...    ...    ...       ...\n",
       "17044          3   122008      4     31  0.129032\n",
       "17045          2    25383     16     57  0.280702\n",
       "17046          3   122190     25     74  0.337838\n",
       "17047          2   108927      8     33  0.242424\n",
       "17048          2    17310      2     14  0.142857\n",
       "\n",
       "[17049 rows x 5 columns]"
      ]
     },
     "execution_count": 48,
     "metadata": {},
     "output_type": "execute_result"
    }
   ],
   "source": [
    "df"
   ]
  },
  {
   "cell_type": "code",
   "execution_count": 38,
   "id": "757905f7-e69b-4a9f-a32d-13af21a6b5a4",
   "metadata": {},
   "outputs": [],
   "source": [
    "# Увеличение масштаба графиков в seaborn\n",
    "sns.set(rc={'figure.figsize':(11.7,8.27)})"
   ]
  },
  {
   "cell_type": "code",
   "execution_count": 43,
   "id": "2f7529d7-65ee-4a07-b520-7e1442fa2e78",
   "metadata": {},
   "outputs": [
    {
     "data": {
      "image/png": "[encoded data removed]",
      "text/plain": [
       "<Figure size 842.4x595.44 with 1 Axes>"
      ]
     },
     "metadata": {},
     "output_type": "display_data"
    }
   ],
   "source": [
    "groups = sns.histplot(data = df,\n",
    "                      x = 'ctr',\n",
    "                      hue = 'exp_group',\n",
    "                      palette = ['r', 'b'],\n",
    "                      alpha = 0.5,\n",
    "                      kde = False)"
   ]
  },
  {
   "cell_type": "code",
   "execution_count": 49,
   "id": "52beb2ef-0752-479b-9626-6e0a2a45a325",
   "metadata": {},
   "outputs": [],
   "source": [
    "# Считаем ctr по каждому пользователю в группе 2\n",
    "q = \"\"\"\n",
    "SELECT exp_group,\n",
    "    user_id,\n",
    "    sum(action = 'like') as likes,\n",
    "    sum(action = 'view') as views,\n",
    "    likes/views as ctr\n",
    "FROM {db}.feed_actions \n",
    "WHERE toDate(time) BETWEEN '2022-06-06' AND '2022-06-12'\n",
    "    and exp_group=2\n",
    "GROUP BY exp_group, user_id\n",
    "\"\"\"\n",
    "\n",
    "\n",
    "df = pandahouse.read_clickhouse(q, connection=connection)"
   ]
  },
  {
   "cell_type": "code",
   "execution_count": 52,
   "id": "4ac931d7-5ea7-45a6-8ace-c3762b9885c2",
   "metadata": {},
   "outputs": [],
   "source": [
    "df_ctr_2=df.ctr"
   ]
  },
  {
   "cell_type": "code",
   "execution_count": 53,
   "id": "9de54780-473c-4e2b-8581-86d733fe1a47",
   "metadata": {},
   "outputs": [
    {
     "data": {
      "text/plain": [
       "0       0.175676\n",
       "1       0.181818\n",
       "2       0.141667\n",
       "3       0.445378\n",
       "4       0.114286\n",
       "          ...   \n",
       "8475    0.132075\n",
       "8476    0.106667\n",
       "8477    0.280702\n",
       "8478    0.242424\n",
       "8479    0.142857\n",
       "Name: ctr, Length: 8480, dtype: float64"
      ]
     },
     "execution_count": 53,
     "metadata": {},
     "output_type": "execute_result"
    }
   ],
   "source": [
    "df_ctr_2"
   ]
  },
  {
   "cell_type": "code",
   "execution_count": 54,
   "id": "8f0cfcc1-ccb0-48cb-8a8e-f624d09f2a6a",
   "metadata": {},
   "outputs": [],
   "source": [
    "# Считаем ctr по каждому пользователю в группе 3\n",
    "q = \"\"\"\n",
    "SELECT exp_group,\n",
    "    user_id,\n",
    "    sum(action = 'like') as likes,\n",
    "    sum(action = 'view') as views,\n",
    "    likes/views as ctr\n",
    "FROM {db}.feed_actions \n",
    "WHERE toDate(time) BETWEEN '2022-06-06' AND '2022-06-12'\n",
    "    and exp_group=3\n",
    "GROUP BY exp_group, user_id\n",
    "\"\"\"\n",
    "\n",
    "\n",
    "df = pandahouse.read_clickhouse(q, connection=connection)"
   ]
  },
  {
   "cell_type": "code",
   "execution_count": 55,
   "id": "90a01faf-5095-460f-9e75-24557ecc47e1",
   "metadata": {},
   "outputs": [],
   "source": [
    "df_ctr_3 = df.ctr"
   ]
  },
  {
   "cell_type": "code",
   "execution_count": 56,
   "id": "788aa407-0263-4d4e-b345-6bb5548ad5cf",
   "metadata": {},
   "outputs": [
    {
     "data": {
      "text/plain": [
       "0       0.305556\n",
       "1       0.163043\n",
       "2       0.143836\n",
       "3       0.217391\n",
       "4       0.250000\n",
       "          ...   \n",
       "8564    0.174528\n",
       "8565    0.280000\n",
       "8566    0.142857\n",
       "8567    0.129032\n",
       "8568    0.337838\n",
       "Name: ctr, Length: 8569, dtype: float64"
      ]
     },
     "execution_count": 56,
     "metadata": {},
     "output_type": "execute_result"
    }
   ],
   "source": [
    "df_ctr_3"
   ]
  },
  {
   "cell_type": "code",
   "execution_count": 65,
   "id": "33170437-ca4d-45ea-b46b-d27644cf410f",
   "metadata": {},
   "outputs": [],
   "source": [
    "sample_ctr2 = df_ctr_2.sample(10000, replace = True).tolist()"
   ]
  },
  {
   "cell_type": "code",
   "execution_count": 60,
   "id": "d0a62f35-8248-4ecb-badc-000f7c1fa7ff",
   "metadata": {},
   "outputs": [],
   "source": [
    "sample_ctr3 = df_ctr_3.sample(10000, replace = True).tolist()"
   ]
  },
  {
   "cell_type": "code",
   "execution_count": 67,
   "id": "69921adc-9ad7-4be2-89ef-91a9f36e3567",
   "metadata": {},
   "outputs": [
    {
     "data": {
      "image/png": "[encoded data removed]",
      "text/plain": [
       "<Figure size 842.4x595.44 with 1 Axes>"
      ]
     },
     "metadata": {},
     "output_type": "display_data"
    }
   ],
   "source": [
    "plot_ctr2 = sns.histplot(data = sample_ctr2,\n",
    "                      palette = ['r'],\n",
    "                      alpha = 0.5,\n",
    "                      kde = False)"
   ]
  },
  {
   "cell_type": "code",
   "execution_count": 68,
   "id": "c4f2025e-0169-4f54-87e0-610f7a9af8ad",
   "metadata": {},
   "outputs": [
    {
     "data": {
      "image/png": "[encoded data removed]",
      "text/plain": [
       "<Figure size 842.4x595.44 with 1 Axes>"
      ]
     },
     "metadata": {},
     "output_type": "display_data"
    }
   ],
   "source": [
    "plot_ctr3 = sns.histplot(data = sample_ctr3,\n",
    "                      palette = ['r'],\n",
    "                      alpha = 0.5,\n",
    "                      kde = False)"
   ]
  },
  {
   "cell_type": "code",
   "execution_count": 69,
   "id": "260750a6-e37f-46f3-9e16-4b6f36ea562a",
   "metadata": {},
   "outputs": [
    {
     "data": {
      "text/plain": [
       "Ttest_indResult(statistic=-0.16240176081756968, pvalue=0.8709911255962662)"
      ]
     },
     "execution_count": 69,
     "metadata": {},
     "output_type": "execute_result"
    }
   ],
   "source": [
    "stats.ttest_ind(sample_ctr2,\n",
    "                sample_ctr3,\n",
    "                equal_var = False)"
   ]
  },
  {
   "cell_type": "markdown",
   "id": "8abda7f0-bed7-43a6-b109-247dc2b1de9f",
   "metadata": {},
   "source": [
    "На основании t-теста можно сделать вывод о том, что в выборках вероятно отличий нет (pvalue=0.87). Значит, мы считаем, что АА-тест сошелся. "
   ]
  }
 ],
 "metadata": {
  "kernelspec": {
   "display_name": "Python 3.9.6 64-bit",
   "language": "python",
   "name": "python3"
  },
  "language_info": {
   "codemirror_mode": {
    "name": "ipython",
    "version": 3
   },
   "file_extension": ".py",
   "mimetype": "text/x-python",
   "name": "python",
   "nbconvert_exporter": "python",
   "pygments_lexer": "ipython3",
   "version": "3.9.6"
  },
  "vscode": {
   "interpreter": {
    "hash": "e83af3ab750647e1dbe67b92e49a24025efa6ac893255fea96dc85a9827f377d"
   }
  }
 },
 "nbformat": 4,
 "nbformat_minor": 5
}
